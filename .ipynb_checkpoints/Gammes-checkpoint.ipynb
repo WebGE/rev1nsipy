{
 "cells": [
  {
   "cell_type": "markdown",
   "metadata": {},
   "source": [
    "# Exercices courts pour s'entraîner - <span style=\"color:blue;\">CORRECTION</span>"
   ]
  },
  {
   "cell_type": "markdown",
   "metadata": {},
   "source": [
    "**Sources** : \"Numérique et Sciences Informatique 1<sup>er</sup>\" - Ellipses et [Coding] N°6 Spécial PYTHON"
   ]
  },
  {
   "cell_type": "markdown",
   "metadata": {},
   "source": [
    "**Ressources** : <a href=\"https://webge.synology.me/dokuwiki/doku.php?id=python:accueilpython\" target=\"_blank\"><input type=\"button\" value=\"Wiki Python sur WebGE\"></a>"
   ]
  },
  {
   "cell_type": "markdown",
   "metadata": {},
   "source": [
    "Tout comme un musicien fait ses gammes pour s'échauffer et gagner en assurance, un **débutant en programmation Python** gagnera à faire des exercices courts pour se familiariser avec le langage."
   ]
  },
  {
   "cell_type": "markdown",
   "metadata": {},
   "source": [
    "### 1. Pour s'échauffer"
   ]
  },
  {
   "cell_type": "markdown",
   "metadata": {},
   "source": [
    "**1.1 Exercice 1** - Calcul d'aires\n",
    "\n",
    "Ecrire un programme qui demande à l'utilisateur les longueurs en mètres des deux côtés d'un rectangle et affiche son aire. Afficher le résultat avec deux décimales.\n",
    "\n",
    "*Exemple de résultat attendu* <br>\n",
    "<span style=\"color:blue;\">Entrer la longeur et la largeur du rectangle en mètres <br>\n",
    "Longeur ? 5.4 <br>\n",
    "Largeur ? 2.3 <br><br>\n",
    "Aire = 12.42 m²</span>"
   ]
  },
  {
   "cell_type": "code",
   "execution_count": null,
   "metadata": {},
   "outputs": [],
   "source": [
    "# A compléter\n",
    "print(\"Entrer la longueur et la largeur du rectangle en mètres\")\n",
    "longueur = float(input(\"Longueur ? \"))\n",
    "largeur = float(input(\"Largeur ? \"))\n",
    "print(\"Aire = \", longueur * largeur, \"m²\")"
   ]
  },
  {
   "cell_type": "markdown",
   "metadata": {},
   "source": [
    "**1.2 Exercice 2** - Divisible par n ?\n",
    "\n",
    "Rechercher et afficher les nombres divisibles par n $\\in$ <a href=\"http://www.bibmath.net/dico/index.php?action=affiche&quoi=./e/ensemblesnombres.html\" target=\"_blank\">N</a>* dans une liste d'entiers positif. Le signe * exclu le nombre 0 d'un ensemble. \n",
    "\n",
    "*Exemple de résultat attendu* <br>\n",
    "<span style=\"color:blue;\">\n",
    "tab=[1,5,42,9,15,9,7,30] et n = 5 => Afficher [5, 15, 30] <br>\n",
    "tab=[1,5,42,9,15,9,7,30] et n = 3 => Afficher [42, 9, 15, 9, 30] <br>\n",
    "tab=[1,5,42,9,15,9,7,30] et n = 8 => Afficher \"Aucune valeur de la liste n'est divisible par 8\""
   ]
  },
  {
   "cell_type": "code",
   "execution_count": 1,
   "metadata": {},
   "outputs": [
    {
     "name": "stdout",
     "output_type": "stream",
     "text": [
      "Aucune valeur de la liste n'est divisible par 8 \n"
     ]
    }
   ],
   "source": [
    "# A compléter\n",
    "tab=[1,5,42,9,15,9,7,30]\n",
    "n = 8\n",
    "\n",
    "def divparn(l,n):\n",
    "    resultat = []\n",
    "    for i in l:\n",
    "        if i%n==0:\n",
    "            resultat.append(i)\n",
    "    return resultat\n",
    "\n",
    "if divparn(tab,n)!=[]:\n",
    "    print(divparn(tab,n))\n",
    "else:\n",
    "    print(f\"Aucune valeur de la liste n'est divisible par {n} \")"
   ]
  },
  {
   "cell_type": "markdown",
   "metadata": {},
   "source": [
    "**A suivre ...**"
   ]
  },
  {
   "cell_type": "markdown",
   "metadata": {},
   "source": [
    "### 2. Chaînes de caractères"
   ]
  },
  {
   "cell_type": "markdown",
   "metadata": {},
   "source": [
    "Pour effectuer des tâches de programmation en Python, une bonne compréhension des chaînes de caractères est nécessaire."
   ]
  },
  {
   "cell_type": "markdown",
   "metadata": {},
   "source": [
    "**A faire**"
   ]
  },
  {
   "cell_type": "code",
   "execution_count": null,
   "metadata": {},
   "outputs": [],
   "source": []
  },
  {
   "cell_type": "markdown",
   "metadata": {},
   "source": [
    "### 3. Liste, dictionnaire, ensemble et tuple"
   ]
  },
  {
   "cell_type": "markdown",
   "metadata": {},
   "source": [
    "**A faire**"
   ]
  },
  {
   "cell_type": "code",
   "execution_count": null,
   "metadata": {},
   "outputs": [],
   "source": []
  }
 ],
 "metadata": {
  "kernelspec": {
   "display_name": "Python 3",
   "language": "python",
   "name": "python3"
  },
  "language_info": {
   "codemirror_mode": {
    "name": "ipython",
    "version": 3
   },
   "file_extension": ".py",
   "mimetype": "text/x-python",
   "name": "python",
   "nbconvert_exporter": "python",
   "pygments_lexer": "ipython3",
   "version": "3.7.6"
  }
 },
 "nbformat": 4,
 "nbformat_minor": 4
}
