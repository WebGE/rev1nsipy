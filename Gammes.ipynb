{
 "cells": [
  {
   "cell_type": "markdown",
   "metadata": {},
   "source": [
    "# Exercices courts pour s'entraîner - <span style=\"color:blue;\">SUJET</span>"
   ]
  },
  {
   "cell_type": "markdown",
   "metadata": {},
   "source": [
    "**Sources** : \"Numérique et Sciences Informatique 1<sup>er</sup>\" - Ellipses et [Coding] N°6, N°12"
   ]
  },
  {
   "cell_type": "markdown",
   "metadata": {},
   "source": [
    "**Ressources** : <a href=\"https://webge.synology.me/dokuwiki/doku.php?id=python:accueilpython\" target=\"_blank\"><input type=\"button\" value=\"Wiki Python sur WebGE\"></a>"
   ]
  },
  {
   "cell_type": "markdown",
   "metadata": {},
   "source": [
    "----\n",
    "**Sommaire** <br>\n",
    "1. Pour s'échauffer <br>\n",
    "2. Chaînes de caractères <br>\n",
    "3. Tuples, listes, dictionnaires et ensembles\n",
    "----"
   ]
  },
  {
   "cell_type": "markdown",
   "metadata": {},
   "source": [
    "*Tout comme un musicien fait ses gammes pour s'échauffer et gagner en assurance, un **débutant en programmation Python** gagnera à faire des exercices courts pour se familiariser avec le langage.*"
   ]
  },
  {
   "cell_type": "markdown",
   "metadata": {},
   "source": [
    "## 1. Pour s'échauffer"
   ]
  },
  {
   "cell_type": "markdown",
   "metadata": {},
   "source": [
    "> **Exercice 11** - Calcul d'aires\n",
    ">\n",
    ">Ecrire un programme qui demande à l'utilisateur les longueurs en mètres des deux côtés d'un rectangle et affiche son aire. Afficher le résultat avec deux décimales.\n",
    ">\n",
    ">*Exemple de résultat attendu* <br>\n",
    "<span style=\"color:blue;\">Entrer la longeur et la largeur du rectangle en mètres <br>\n",
    "Longeur ? 5.4 <br>\n",
    "Largeur ? 2.3 <br><br>\n",
    "Aire = 12.42 m²</span>"
   ]
  },
  {
   "cell_type": "code",
   "execution_count": null,
   "metadata": {},
   "outputs": [],
   "source": [
    "# A compléter\n"
   ]
  },
  {
   "cell_type": "markdown",
   "metadata": {},
   "source": [
    ">**Exercice 12** - Divisible par n ?\n",
    ">\n",
    ">Rechercher et afficher les nombres divisibles par n $\\in$ <a href=\"http://www.bibmath.net/dico/index.php?action=affiche&quoi=./e/ensemblesnombres.html\" target=\"_blank\">N</a>* dans une liste d'entiers positif. Le signe * exclu le nombre 0 d'un ensemble. \n",
    ">\n",
    ">*Exemple de résultat attendu* <br>\n",
    "<span style=\"color:blue;\">\n",
    "tab=[1,5,42,9,15,9,7,30] et n = 5 => Afficher [5, 15, 30] <br>\n",
    "tab=[1,5,42,9,15,9,7,30] et n = 3 => Afficher [42, 9, 15, 9, 30] <br>\n",
    "tab=[1,5,42,9,15,9,7,30] et n = 8 => Afficher \"Aucune valeur de la liste n'est divisible par 8\"\n",
    "</span>"
   ]
  },
  {
   "cell_type": "code",
   "execution_count": null,
   "metadata": {},
   "outputs": [],
   "source": [
    "# A compléter\n"
   ]
  },
  {
   "cell_type": "markdown",
   "metadata": {},
   "source": [
    "## 2. Chaînes de caractères\n",
    "**Ressources** : <a href=\"https://webge.synology.me/dokuwiki/doku.php?id=python:bases:chaines\" target=\"_blank\"><input type=\"button\" value=\"Wiki Python sur WebGE\"></a>"
   ]
  },
  {
   "cell_type": "markdown",
   "metadata": {},
   "source": [
    "Pour effectuer des tâches de programmation en Python, une bonne compréhension des chaînes de caractères est nécessaire."
   ]
  },
  {
   "cell_type": "markdown",
   "metadata": {},
   "source": [
    "**A faire**"
   ]
  },
  {
   "cell_type": "markdown",
   "metadata": {},
   "source": [
    "## 3. Tuples, listes, dictionnaires et ensembles"
   ]
  },
  {
   "cell_type": "markdown",
   "metadata": {},
   "source": [
    "### 3.1 Tuples\n",
    "**Ressources** : <a href=\"https://webge.synology.me/dokuwiki/doku.php?id=python:bases:listes\" target=\"_blank\"><input type=\"button\" value=\"Wiki Python sur WebGE\"></a>"
   ]
  },
  {
   "cell_type": "markdown",
   "metadata": {},
   "source": [
    "**A faire**"
   ]
  },
  {
   "cell_type": "markdown",
   "metadata": {},
   "source": [
    "### 3.2 Listes\n",
    "**Ressources** : <a href=\"https://webge.synology.me/dokuwiki/doku.php?id=python:bases:listes\" target=\"_blank\"><input type=\"button\" value=\"Wiki Python sur WebGE\"></a>"
   ]
  },
  {
   "cell_type": "markdown",
   "metadata": {},
   "source": [
    ">**Exercice 321**\n",
    ">\n",
    ">Ecrire une fonction **cube**(min,max) qui renvoie la liste des cubes des nombres impairs pour n $\\in$ [min,max].\n",
    ">\n",
    ">*Exemple de résultat attendu* <br>\n",
    "<span style=\"color:blue;\">\n",
    "cube(-5,20) => [-125, -27, -1, 1, 27, 125, 343, 729, 1331, 2197, 3375, 4913, 6859] </span>"
   ]
  },
  {
   "cell_type": "code",
   "execution_count": null,
   "metadata": {},
   "outputs": [],
   "source": [
    "# A compléter\n",
    "# Fonction\n",
    "\n",
    "# test"
   ]
  },
  {
   "cell_type": "markdown",
   "metadata": {},
   "source": [
    ">**Exercice 322**\n",
    ">\n",
    ">Ecrire une fonction **commun**(a,b) qui renvoie les valeurs communes à deux listes.\n",
    ">\n",
    ">*Exemple de résultat attendu* <br>\n",
    "<span style=\"color:blue\">\n",
    "a = [1,2,3,4,5] b = [2,3,4,6,7] <br>\n",
    "commun(a,b) renvoie [2,3,4]\n",
    "</span>"
   ]
  },
  {
   "cell_type": "code",
   "execution_count": null,
   "metadata": {},
   "outputs": [],
   "source": [
    "# A compléter\n",
    "# Fonction\n",
    "\n",
    "# test"
   ]
  },
  {
   "cell_type": "markdown",
   "metadata": {},
   "source": [
    "### 3.3 Dictionnaires\n",
    "**Ressources** : <a href=\"https://webge.synology.me/dokuwiki/doku.php?id=python:bases:dictionnaires\" target=\"_blank\"><input type=\"button\" value=\"Wiki Python sur WebGE\"></a>"
   ]
  },
  {
   "cell_type": "markdown",
   "metadata": {},
   "source": [
    "**A faire**"
   ]
  },
  {
   "cell_type": "markdown",
   "metadata": {},
   "source": [
    "### 3.4 Ensembles\n",
    "**Ressources** : <a href=\"https://webge.synology.me/dokuwiki/doku.php?id=python:bases:ensembles\" target=\"_blank\"><input type=\"button\" value=\"Wiki Python sur WebGE\"></a>"
   ]
  },
  {
   "cell_type": "markdown",
   "metadata": {},
   "source": [
    ">**Exercice 341**\n",
    ">\n",
    ">Ecrire une fonction **enCommun**(a,b) qui renvoie les valeurs communes à deux listes.\n",
    ">\n",
    ">*Exemple de résultat attendu* <br>\n",
    "<span style=\"color:blue\">\n",
    "a = [1,2,3,4,5] b = [2,3,4,6,7] <br>\n",
    "commun(a,b) renvoie [2,3,4]\n",
    "</span>"
   ]
  },
  {
   "cell_type": "code",
   "execution_count": null,
   "metadata": {},
   "outputs": [],
   "source": [
    "# A compléter"
   ]
  }
 ],
 "metadata": {
  "kernelspec": {
   "display_name": "Python 3",
   "language": "python",
   "name": "python3"
  },
  "language_info": {
   "codemirror_mode": {
    "name": "ipython",
    "version": 3
   },
   "file_extension": ".py",
   "mimetype": "text/x-python",
   "name": "python",
   "nbconvert_exporter": "python",
   "pygments_lexer": "ipython3",
   "version": "3.8.5"
  }
 },
 "nbformat": 4,
 "nbformat_minor": 4
}
